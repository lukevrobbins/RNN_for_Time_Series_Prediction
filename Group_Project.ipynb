{
 "cells": [
  {
   "cell_type": "code",
   "execution_count": null,
   "metadata": {
    "id": "a6Y_gknt9pha"
   },
   "outputs": [],
   "source": [
    "import pandas as pd\n",
    "import numpy as np\n",
    "import seaborn as sns\n",
    "import matplotlib.pyplot as plt\n",
    "%matplotlib inline \n",
    "sns.set(color_codes=True)"
   ]
  },
  {
   "cell_type": "markdown",
   "metadata": {
    "id": "TE69IvhG-CYn"
   },
   "source": [
    "# Data Importing and Exploration"
   ]
  },
  {
   "cell_type": "markdown",
   "metadata": {
    "id": "fT6b95TG-VnU"
   },
   "source": [
    "## Importing data for ASIANPAINT company stock statistics"
   ]
  },
  {
   "cell_type": "code",
   "execution_count": null,
   "metadata": {
    "id": "pG2TyExL8X8T"
   },
   "outputs": [],
   "source": [
    "url = 'https://drive.google.com/file/d/1nM8Lc7El4dr9eq-iMkhiw1z3ZnCQOejv/view?usp=sharing'\n",
    "path = 'https://drive.google.com/uc?export=download&id='+url.split('/')[-2]"
   ]
  },
  {
   "cell_type": "code",
   "execution_count": null,
   "metadata": {
    "id": "YUGQSm2-9gdd"
   },
   "outputs": [],
   "source": [
    "df = pd.read_csv(path)"
   ]
  },
  {
   "cell_type": "markdown",
   "metadata": {
    "id": "7ey2j9L9-2jW"
   },
   "source": [
    "*Need data description here*"
   ]
  },
  {
   "cell_type": "markdown",
   "metadata": {
    "id": "dRD3fGb8-Yxv"
   },
   "source": [
    "## Performing Exploratory Analysis"
   ]
  },
  {
   "cell_type": "code",
   "execution_count": null,
   "metadata": {
    "colab": {
     "base_uri": "https://localhost:8080/",
     "height": 417
    },
    "id": "e-QHRs5YBCEr",
    "outputId": "b63f3e85-2aac-48d1-fd1b-6e3a465c7b56"
   },
   "outputs": [
    {
     "data": {
      "text/html": [
       "<div>\n",
       "<style scoped>\n",
       "    .dataframe tbody tr th:only-of-type {\n",
       "        vertical-align: middle;\n",
       "    }\n",
       "\n",
       "    .dataframe tbody tr th {\n",
       "        vertical-align: top;\n",
       "    }\n",
       "\n",
       "    .dataframe thead th {\n",
       "        text-align: right;\n",
       "    }\n",
       "</style>\n",
       "<table border=\"1\" class=\"dataframe\">\n",
       "  <thead>\n",
       "    <tr style=\"text-align: right;\">\n",
       "      <th></th>\n",
       "      <th>Date</th>\n",
       "      <th>Symbol</th>\n",
       "      <th>Series</th>\n",
       "      <th>Prev Close</th>\n",
       "      <th>Open</th>\n",
       "      <th>High</th>\n",
       "      <th>Low</th>\n",
       "      <th>Last</th>\n",
       "      <th>Close</th>\n",
       "      <th>VWAP</th>\n",
       "      <th>Volume</th>\n",
       "      <th>Turnover</th>\n",
       "      <th>Trades</th>\n",
       "      <th>Deliverable Volume</th>\n",
       "      <th>%Deliverble</th>\n",
       "    </tr>\n",
       "  </thead>\n",
       "  <tbody>\n",
       "    <tr>\n",
       "      <th>0</th>\n",
       "      <td>2000-01-03</td>\n",
       "      <td>ASIANPAINT</td>\n",
       "      <td>EQ</td>\n",
       "      <td>361.20</td>\n",
       "      <td>370.0</td>\n",
       "      <td>390.00</td>\n",
       "      <td>370.00</td>\n",
       "      <td>385.0</td>\n",
       "      <td>381.65</td>\n",
       "      <td>380.54</td>\n",
       "      <td>3318</td>\n",
       "      <td>1.262617e+11</td>\n",
       "      <td>NaN</td>\n",
       "      <td>NaN</td>\n",
       "      <td>NaN</td>\n",
       "    </tr>\n",
       "    <tr>\n",
       "      <th>1</th>\n",
       "      <td>2000-01-04</td>\n",
       "      <td>ASIANPAINT</td>\n",
       "      <td>EQ</td>\n",
       "      <td>381.65</td>\n",
       "      <td>380.0</td>\n",
       "      <td>392.00</td>\n",
       "      <td>375.00</td>\n",
       "      <td>390.0</td>\n",
       "      <td>385.55</td>\n",
       "      <td>383.50</td>\n",
       "      <td>4818</td>\n",
       "      <td>1.847699e+11</td>\n",
       "      <td>NaN</td>\n",
       "      <td>NaN</td>\n",
       "      <td>NaN</td>\n",
       "    </tr>\n",
       "    <tr>\n",
       "      <th>2</th>\n",
       "      <td>2000-01-05</td>\n",
       "      <td>ASIANPAINT</td>\n",
       "      <td>EQ</td>\n",
       "      <td>385.55</td>\n",
       "      <td>371.5</td>\n",
       "      <td>390.00</td>\n",
       "      <td>371.50</td>\n",
       "      <td>383.0</td>\n",
       "      <td>383.00</td>\n",
       "      <td>379.81</td>\n",
       "      <td>2628</td>\n",
       "      <td>9.981384e+10</td>\n",
       "      <td>NaN</td>\n",
       "      <td>NaN</td>\n",
       "      <td>NaN</td>\n",
       "    </tr>\n",
       "    <tr>\n",
       "      <th>3</th>\n",
       "      <td>2000-01-06</td>\n",
       "      <td>ASIANPAINT</td>\n",
       "      <td>EQ</td>\n",
       "      <td>383.00</td>\n",
       "      <td>384.9</td>\n",
       "      <td>384.90</td>\n",
       "      <td>374.50</td>\n",
       "      <td>375.1</td>\n",
       "      <td>377.50</td>\n",
       "      <td>379.88</td>\n",
       "      <td>3354</td>\n",
       "      <td>1.274114e+11</td>\n",
       "      <td>NaN</td>\n",
       "      <td>NaN</td>\n",
       "      <td>NaN</td>\n",
       "    </tr>\n",
       "    <tr>\n",
       "      <th>4</th>\n",
       "      <td>2000-01-07</td>\n",
       "      <td>ASIANPAINT</td>\n",
       "      <td>EQ</td>\n",
       "      <td>377.50</td>\n",
       "      <td>376.0</td>\n",
       "      <td>390.00</td>\n",
       "      <td>370.00</td>\n",
       "      <td>389.0</td>\n",
       "      <td>385.70</td>\n",
       "      <td>383.38</td>\n",
       "      <td>9589</td>\n",
       "      <td>3.676275e+11</td>\n",
       "      <td>NaN</td>\n",
       "      <td>NaN</td>\n",
       "      <td>NaN</td>\n",
       "    </tr>\n",
       "    <tr>\n",
       "      <th>...</th>\n",
       "      <td>...</td>\n",
       "      <td>...</td>\n",
       "      <td>...</td>\n",
       "      <td>...</td>\n",
       "      <td>...</td>\n",
       "      <td>...</td>\n",
       "      <td>...</td>\n",
       "      <td>...</td>\n",
       "      <td>...</td>\n",
       "      <td>...</td>\n",
       "      <td>...</td>\n",
       "      <td>...</td>\n",
       "      <td>...</td>\n",
       "      <td>...</td>\n",
       "      <td>...</td>\n",
       "    </tr>\n",
       "    <tr>\n",
       "      <th>5301</th>\n",
       "      <td>2021-04-26</td>\n",
       "      <td>ASIANPAINT</td>\n",
       "      <td>EQ</td>\n",
       "      <td>2517.95</td>\n",
       "      <td>2530.0</td>\n",
       "      <td>2575.00</td>\n",
       "      <td>2530.00</td>\n",
       "      <td>2558.0</td>\n",
       "      <td>2557.90</td>\n",
       "      <td>2557.47</td>\n",
       "      <td>1103980</td>\n",
       "      <td>2.823400e+14</td>\n",
       "      <td>58557.0</td>\n",
       "      <td>335232.0</td>\n",
       "      <td>0.3037</td>\n",
       "    </tr>\n",
       "    <tr>\n",
       "      <th>5302</th>\n",
       "      <td>2021-04-27</td>\n",
       "      <td>ASIANPAINT</td>\n",
       "      <td>EQ</td>\n",
       "      <td>2557.90</td>\n",
       "      <td>2545.0</td>\n",
       "      <td>2579.90</td>\n",
       "      <td>2534.00</td>\n",
       "      <td>2571.0</td>\n",
       "      <td>2574.35</td>\n",
       "      <td>2560.55</td>\n",
       "      <td>866331</td>\n",
       "      <td>2.218288e+14</td>\n",
       "      <td>66988.0</td>\n",
       "      <td>281178.0</td>\n",
       "      <td>0.3246</td>\n",
       "    </tr>\n",
       "    <tr>\n",
       "      <th>5303</th>\n",
       "      <td>2021-04-28</td>\n",
       "      <td>ASIANPAINT</td>\n",
       "      <td>EQ</td>\n",
       "      <td>2574.35</td>\n",
       "      <td>2588.0</td>\n",
       "      <td>2620.25</td>\n",
       "      <td>2575.00</td>\n",
       "      <td>2612.0</td>\n",
       "      <td>2614.55</td>\n",
       "      <td>2605.91</td>\n",
       "      <td>1065561</td>\n",
       "      <td>2.776752e+14</td>\n",
       "      <td>52622.0</td>\n",
       "      <td>449241.0</td>\n",
       "      <td>0.4216</td>\n",
       "    </tr>\n",
       "    <tr>\n",
       "      <th>5304</th>\n",
       "      <td>2021-04-29</td>\n",
       "      <td>ASIANPAINT</td>\n",
       "      <td>EQ</td>\n",
       "      <td>2614.55</td>\n",
       "      <td>2630.0</td>\n",
       "      <td>2642.00</td>\n",
       "      <td>2570.00</td>\n",
       "      <td>2613.0</td>\n",
       "      <td>2613.45</td>\n",
       "      <td>2607.33</td>\n",
       "      <td>1295346</td>\n",
       "      <td>3.377394e+14</td>\n",
       "      <td>64039.0</td>\n",
       "      <td>447979.0</td>\n",
       "      <td>0.3458</td>\n",
       "    </tr>\n",
       "    <tr>\n",
       "      <th>5305</th>\n",
       "      <td>2021-04-30</td>\n",
       "      <td>ASIANPAINT</td>\n",
       "      <td>EQ</td>\n",
       "      <td>2613.45</td>\n",
       "      <td>2595.0</td>\n",
       "      <td>2605.80</td>\n",
       "      <td>2524.05</td>\n",
       "      <td>2529.0</td>\n",
       "      <td>2536.40</td>\n",
       "      <td>2558.66</td>\n",
       "      <td>1384907</td>\n",
       "      <td>3.543512e+14</td>\n",
       "      <td>91934.0</td>\n",
       "      <td>750496.0</td>\n",
       "      <td>0.5419</td>\n",
       "    </tr>\n",
       "  </tbody>\n",
       "</table>\n",
       "<p>5306 rows × 15 columns</p>\n",
       "</div>"
      ],
      "text/plain": [
       "            Date      Symbol Series  ...   Trades  Deliverable Volume  %Deliverble\n",
       "0     2000-01-03  ASIANPAINT     EQ  ...      NaN                 NaN          NaN\n",
       "1     2000-01-04  ASIANPAINT     EQ  ...      NaN                 NaN          NaN\n",
       "2     2000-01-05  ASIANPAINT     EQ  ...      NaN                 NaN          NaN\n",
       "3     2000-01-06  ASIANPAINT     EQ  ...      NaN                 NaN          NaN\n",
       "4     2000-01-07  ASIANPAINT     EQ  ...      NaN                 NaN          NaN\n",
       "...          ...         ...    ...  ...      ...                 ...          ...\n",
       "5301  2021-04-26  ASIANPAINT     EQ  ...  58557.0            335232.0       0.3037\n",
       "5302  2021-04-27  ASIANPAINT     EQ  ...  66988.0            281178.0       0.3246\n",
       "5303  2021-04-28  ASIANPAINT     EQ  ...  52622.0            449241.0       0.4216\n",
       "5304  2021-04-29  ASIANPAINT     EQ  ...  64039.0            447979.0       0.3458\n",
       "5305  2021-04-30  ASIANPAINT     EQ  ...  91934.0            750496.0       0.5419\n",
       "\n",
       "[5306 rows x 15 columns]"
      ]
     },
     "execution_count": 14,
     "metadata": {},
     "output_type": "execute_result"
    }
   ],
   "source": [
    "df"
   ]
  },
  {
   "cell_type": "code",
   "execution_count": null,
   "metadata": {
    "colab": {
     "base_uri": "https://localhost:8080/",
     "height": 295
    },
    "id": "tb33WNTn9wVb",
    "outputId": "56e146c7-5ad0-4aa6-d082-770c23061cc9"
   },
   "outputs": [
    {
     "data": {
      "text/html": [
       "<div>\n",
       "<style scoped>\n",
       "    .dataframe tbody tr th:only-of-type {\n",
       "        vertical-align: middle;\n",
       "    }\n",
       "\n",
       "    .dataframe tbody tr th {\n",
       "        vertical-align: top;\n",
       "    }\n",
       "\n",
       "    .dataframe thead th {\n",
       "        text-align: right;\n",
       "    }\n",
       "</style>\n",
       "<table border=\"1\" class=\"dataframe\">\n",
       "  <thead>\n",
       "    <tr style=\"text-align: right;\">\n",
       "      <th></th>\n",
       "      <th>Prev Close</th>\n",
       "      <th>Open</th>\n",
       "      <th>High</th>\n",
       "      <th>Low</th>\n",
       "      <th>Last</th>\n",
       "      <th>Close</th>\n",
       "      <th>VWAP</th>\n",
       "      <th>Volume</th>\n",
       "      <th>Turnover</th>\n",
       "      <th>Trades</th>\n",
       "      <th>Deliverable Volume</th>\n",
       "      <th>%Deliverble</th>\n",
       "    </tr>\n",
       "  </thead>\n",
       "  <tbody>\n",
       "    <tr>\n",
       "      <th>count</th>\n",
       "      <td>5306.000000</td>\n",
       "      <td>5306.000000</td>\n",
       "      <td>5306.000000</td>\n",
       "      <td>5306.000000</td>\n",
       "      <td>5306.000000</td>\n",
       "      <td>5306.000000</td>\n",
       "      <td>5306.000000</td>\n",
       "      <td>5.306000e+03</td>\n",
       "      <td>5.306000e+03</td>\n",
       "      <td>2456.000000</td>\n",
       "      <td>4.797000e+03</td>\n",
       "      <td>4797.000000</td>\n",
       "    </tr>\n",
       "    <tr>\n",
       "      <th>mean</th>\n",
       "      <td>1247.000952</td>\n",
       "      <td>1247.683952</td>\n",
       "      <td>1264.625349</td>\n",
       "      <td>1230.900697</td>\n",
       "      <td>1247.317132</td>\n",
       "      <td>1247.410903</td>\n",
       "      <td>1247.799926</td>\n",
       "      <td>5.096721e+05</td>\n",
       "      <td>6.942919e+13</td>\n",
       "      <td>41346.011401</td>\n",
       "      <td>2.751281e+05</td>\n",
       "      <td>0.625572</td>\n",
       "    </tr>\n",
       "    <tr>\n",
       "      <th>std</th>\n",
       "      <td>1074.399506</td>\n",
       "      <td>1074.025577</td>\n",
       "      <td>1087.238871</td>\n",
       "      <td>1062.629409</td>\n",
       "      <td>1074.432667</td>\n",
       "      <td>1074.476439</td>\n",
       "      <td>1075.057438</td>\n",
       "      <td>8.535993e+05</td>\n",
       "      <td>1.443973e+14</td>\n",
       "      <td>36435.449733</td>\n",
       "      <td>4.157465e+05</td>\n",
       "      <td>0.187597</td>\n",
       "    </tr>\n",
       "    <tr>\n",
       "      <th>min</th>\n",
       "      <td>210.750000</td>\n",
       "      <td>210.000000</td>\n",
       "      <td>215.750000</td>\n",
       "      <td>204.000000</td>\n",
       "      <td>210.600000</td>\n",
       "      <td>210.750000</td>\n",
       "      <td>212.220000</td>\n",
       "      <td>2.500000e+01</td>\n",
       "      <td>1.278415e+09</td>\n",
       "      <td>70.000000</td>\n",
       "      <td>2.500000e+01</td>\n",
       "      <td>0.076800</td>\n",
       "    </tr>\n",
       "    <tr>\n",
       "      <th>25%</th>\n",
       "      <td>415.737500</td>\n",
       "      <td>415.000000</td>\n",
       "      <td>424.950000</td>\n",
       "      <td>410.000000</td>\n",
       "      <td>416.000000</td>\n",
       "      <td>416.262500</td>\n",
       "      <td>415.692500</td>\n",
       "      <td>1.370750e+04</td>\n",
       "      <td>7.538133e+11</td>\n",
       "      <td>16264.750000</td>\n",
       "      <td>1.262200e+04</td>\n",
       "      <td>0.486200</td>\n",
       "    </tr>\n",
       "    <tr>\n",
       "      <th>50%</th>\n",
       "      <td>889.375000</td>\n",
       "      <td>890.000000</td>\n",
       "      <td>903.975000</td>\n",
       "      <td>878.075000</td>\n",
       "      <td>890.000000</td>\n",
       "      <td>889.475000</td>\n",
       "      <td>888.350000</td>\n",
       "      <td>5.713600e+04</td>\n",
       "      <td>1.109437e+13</td>\n",
       "      <td>32402.500000</td>\n",
       "      <td>5.273800e+04</td>\n",
       "      <td>0.616100</td>\n",
       "    </tr>\n",
       "    <tr>\n",
       "      <th>75%</th>\n",
       "      <td>1599.037500</td>\n",
       "      <td>1599.800000</td>\n",
       "      <td>1629.675000</td>\n",
       "      <td>1573.037500</td>\n",
       "      <td>1602.500000</td>\n",
       "      <td>1600.762500</td>\n",
       "      <td>1600.982500</td>\n",
       "      <td>8.077905e+05</td>\n",
       "      <td>7.761479e+13</td>\n",
       "      <td>54727.500000</td>\n",
       "      <td>4.383750e+05</td>\n",
       "      <td>0.765500</td>\n",
       "    </tr>\n",
       "    <tr>\n",
       "      <th>max</th>\n",
       "      <td>5213.100000</td>\n",
       "      <td>5221.100000</td>\n",
       "      <td>5247.750000</td>\n",
       "      <td>5150.050000</td>\n",
       "      <td>5221.100000</td>\n",
       "      <td>5213.100000</td>\n",
       "      <td>5175.790000</td>\n",
       "      <td>1.154594e+07</td>\n",
       "      <td>2.216650e+15</td>\n",
       "      <td>351347.000000</td>\n",
       "      <td>7.938427e+06</td>\n",
       "      <td>1.000000</td>\n",
       "    </tr>\n",
       "  </tbody>\n",
       "</table>\n",
       "</div>"
      ],
      "text/plain": [
       "        Prev Close         Open  ...  Deliverable Volume  %Deliverble\n",
       "count  5306.000000  5306.000000  ...        4.797000e+03  4797.000000\n",
       "mean   1247.000952  1247.683952  ...        2.751281e+05     0.625572\n",
       "std    1074.399506  1074.025577  ...        4.157465e+05     0.187597\n",
       "min     210.750000   210.000000  ...        2.500000e+01     0.076800\n",
       "25%     415.737500   415.000000  ...        1.262200e+04     0.486200\n",
       "50%     889.375000   890.000000  ...        5.273800e+04     0.616100\n",
       "75%    1599.037500  1599.800000  ...        4.383750e+05     0.765500\n",
       "max    5213.100000  5221.100000  ...        7.938427e+06     1.000000\n",
       "\n",
       "[8 rows x 12 columns]"
      ]
     },
     "execution_count": 10,
     "metadata": {},
     "output_type": "execute_result"
    }
   ],
   "source": [
    "df.describe()"
   ]
  },
  {
   "cell_type": "markdown",
   "metadata": {
    "id": "Y-oOFkOO-h-r"
   },
   "source": [
    "Things to note\n",
    "- There is a large range for most variables, considering this is only one stock ticker. This is due to the large time range.\n",
    "- The mean of most of the price metrics is around 1250 and SD is around 1075, so the stock price must have stayed around this price for a while. \n",
    "- We need to look for missing values in these columns"
   ]
  },
  {
   "cell_type": "code",
   "execution_count": null,
   "metadata": {
    "colab": {
     "base_uri": "https://localhost:8080/"
    },
    "id": "96sERXlL_nIF",
    "outputId": "af4b8fce-3b53-4d4b-af11-68d4a792c79f"
   },
   "outputs": [
    {
     "data": {
      "text/plain": [
       "Date                     0\n",
       "Symbol                   0\n",
       "Series                   0\n",
       "Prev Close               0\n",
       "Open                     0\n",
       "High                     0\n",
       "Low                      0\n",
       "Last                     0\n",
       "Close                    0\n",
       "VWAP                     0\n",
       "Volume                   0\n",
       "Turnover                 0\n",
       "Trades                2850\n",
       "Deliverable Volume     509\n",
       "%Deliverble            509\n",
       "dtype: int64"
      ]
     },
     "execution_count": 11,
     "metadata": {},
     "output_type": "execute_result"
    }
   ],
   "source": [
    "df.isnull().sum()"
   ]
  },
  {
   "cell_type": "markdown",
   "metadata": {
    "id": "HK4h9Elg_rJ6"
   },
   "source": [
    "We can see alot of missing values for \"Trades\" column and some for the deliverable columns. Likely trades will be a significant predictor for our model so we will need to test if deleting the rows with no trade value will affect test error. Deliverables will likely have no affect on prediction accuracy.\n",
    "\n",
    "We can create a dataframe with NAs and without NAs for seperate testing to deal with these values. However, it will be hard use common substitutes for NA values as the range of trades is extremely large. This means we will need another substitute. \n"
   ]
  },
  {
   "cell_type": "code",
   "execution_count": null,
   "metadata": {
    "colab": {
     "base_uri": "https://localhost:8080/"
    },
    "id": "VPadUyZqAGXq",
    "outputId": "b7f18c6e-bc74-4020-9e02-6549b63fb110"
   },
   "outputs": [
    {
     "data": {
      "text/plain": [
       "Date                   object\n",
       "Symbol                 object\n",
       "Series                 object\n",
       "Prev Close            float64\n",
       "Open                  float64\n",
       "High                  float64\n",
       "Low                   float64\n",
       "Last                  float64\n",
       "Close                 float64\n",
       "VWAP                  float64\n",
       "Volume                  int64\n",
       "Turnover              float64\n",
       "Trades                float64\n",
       "Deliverable Volume    float64\n",
       "%Deliverble           float64\n",
       "dtype: object"
      ]
     },
     "execution_count": 13,
     "metadata": {},
     "output_type": "execute_result"
    }
   ],
   "source": [
    "df.dtypes"
   ]
  },
  {
   "cell_type": "markdown",
   "metadata": {
    "id": "1RoR99znA-DS"
   },
   "source": [
    "We can see that our date column is an object type instead of a datetime. We will need to handle this in order to do time-series analysis. \n",
    "As of now, we are just working with the ASIANPAINT stock, so we may be able to drop this column. This is the same for the series column, since all of the stocks we will be looking at are EQ series. \n",
    "\n"
   ]
  },
  {
   "cell_type": "code",
   "execution_count": null,
   "metadata": {
    "colab": {
     "base_uri": "https://localhost:8080/",
     "height": 279
    },
    "id": "mHcBpblfCLlH",
    "outputId": "e812d00d-3db3-4b0c-da18-05ff638051b2"
   },
   "outputs": [
    {
     "ename": "TypeError",
     "evalue": "ignored",
     "output_type": "error",
     "traceback": [
      "\u001b[0;31m---------------------------------------------------------------------------\u001b[0m",
      "\u001b[0;31mTypeError\u001b[0m                                 Traceback (most recent call last)",
      "\u001b[0;32m<ipython-input-26-ae59316a10ba>\u001b[0m in \u001b[0;36m<module>\u001b[0;34m()\u001b[0m\n\u001b[0;32m----> 1\u001b[0;31m \u001b[0mdf\u001b[0m \u001b[0;34m<\u001b[0m\u001b[0;34m-\u001b[0m \u001b[0mdf\u001b[0m\u001b[0;34m.\u001b[0m\u001b[0mdrop\u001b[0m\u001b[0;34m(\u001b[0m\u001b[0mcolumns\u001b[0m\u001b[0;34m=\u001b[0m\u001b[0;34m[\u001b[0m\u001b[0;34m'Series'\u001b[0m\u001b[0;34m]\u001b[0m\u001b[0;34m)\u001b[0m\u001b[0;34m\u001b[0m\u001b[0;34m\u001b[0m\u001b[0m\n\u001b[0m",
      "\u001b[0;32m/usr/local/lib/python3.7/dist-packages/pandas/core/generic.py\u001b[0m in \u001b[0;36m__neg__\u001b[0;34m(self)\u001b[0m\n\u001b[1;32m   1295\u001b[0m             \u001b[0;32mor\u001b[0m \u001b[0mis_object_dtype\u001b[0m\u001b[0;34m(\u001b[0m\u001b[0mvalues\u001b[0m\u001b[0;34m)\u001b[0m\u001b[0;34m\u001b[0m\u001b[0;34m\u001b[0m\u001b[0m\n\u001b[1;32m   1296\u001b[0m         ):\n\u001b[0;32m-> 1297\u001b[0;31m             \u001b[0marr\u001b[0m \u001b[0;34m=\u001b[0m \u001b[0moperator\u001b[0m\u001b[0;34m.\u001b[0m\u001b[0mneg\u001b[0m\u001b[0;34m(\u001b[0m\u001b[0mvalues\u001b[0m\u001b[0;34m)\u001b[0m\u001b[0;34m\u001b[0m\u001b[0;34m\u001b[0m\u001b[0m\n\u001b[0m\u001b[1;32m   1298\u001b[0m         \u001b[0;32melse\u001b[0m\u001b[0;34m:\u001b[0m\u001b[0;34m\u001b[0m\u001b[0;34m\u001b[0m\u001b[0m\n\u001b[1;32m   1299\u001b[0m             \u001b[0;32mraise\u001b[0m \u001b[0mTypeError\u001b[0m\u001b[0;34m(\u001b[0m\u001b[0;34mf\"Unary negative expects numeric dtype, not {values.dtype}\"\u001b[0m\u001b[0;34m)\u001b[0m\u001b[0;34m\u001b[0m\u001b[0;34m\u001b[0m\u001b[0m\n",
      "\u001b[0;31mTypeError\u001b[0m: bad operand type for unary -: 'str'"
     ]
    }
   ],
   "source": [
    "df <- df.drop(columns=['Series'])"
   ]
  },
  {
   "cell_type": "code",
   "execution_count": null,
   "metadata": {
    "colab": {
     "base_uri": "https://localhost:8080/"
    },
    "id": "H-m5zzDrDNHF",
    "outputId": "c2e57360-b271-4888-fb6f-9dc0fc6a490f"
   },
   "outputs": [
    {
     "data": {
      "text/plain": [
       "Index(['Date', 'Symbol', 'Series', 'Prev Close', 'Open', 'High', 'Low', 'Last',\n",
       "       'Close', 'VWAP', 'Volume', 'Turnover', 'Trades', 'Deliverable Volume',\n",
       "       '%Deliverble'],\n",
       "      dtype='object')"
      ]
     },
     "execution_count": 24,
     "metadata": {},
     "output_type": "execute_result"
    }
   ],
   "source": [
    "df.columns\n"
   ]
  }
 ],
 "metadata": {
  "colab": {
   "name": "Group Project.ipynb",
   "provenance": []
  },
  "kernelspec": {
   "display_name": "Python 3",
   "language": "python",
   "name": "python3"
  },
  "language_info": {
   "codemirror_mode": {
    "name": "ipython",
    "version": 3
   },
   "file_extension": ".py",
   "mimetype": "text/x-python",
   "name": "python",
   "nbconvert_exporter": "python",
   "pygments_lexer": "ipython3",
   "version": "3.8.8"
  }
 },
 "nbformat": 4,
 "nbformat_minor": 1
}
